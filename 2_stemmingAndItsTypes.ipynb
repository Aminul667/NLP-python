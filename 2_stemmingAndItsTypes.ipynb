{
 "cells": [
  {
   "cell_type": "markdown",
   "metadata": {},
   "source": [
    "## Stemming (Lemmatization )\n",
    "Stemming is a text preprocessing technique in natural language processing (NLP) that eliminates prefixes and suffixes from words, transforming them into their fundamental or root form.\n",
    "\n",
    "[dancing, dancer, danced, dances] -> dance\n"
   ]
  },
  {
   "cell_type": "code",
   "execution_count": 8,
   "metadata": {},
   "outputs": [],
   "source": [
    "words = [\n",
    "    \"Running\",\n",
    "    \"Jumps\",\n",
    "    \"Easily\",\n",
    "    \"Friendliness\",\n",
    "    \"Happily\",\n",
    "    \"Eating\",\n",
    "    \"Studies\",\n",
    "    \"Caring\",\n",
    "    \"Organizations\",\n",
    "    \"Cried\",\n",
    "    \"Flying\",\n",
    "    \"Houses\",\n",
    "    \"Wondered\",\n",
    "    \"Playing\",\n",
    "    \"Quicker\",\n",
    "    \"Wolves\",\n",
    "    \"Bigger\",\n",
    "    \"Amazement\",\n",
    "    \"Completely\",\n",
    "    \"Simplified\",\n",
    "    \"Eaten\",\n",
    "    \"History\"\n",
    "]"
   ]
  },
  {
   "cell_type": "markdown",
   "metadata": {},
   "source": [
    "### Porter Stemmer\n",
    "It has disadvantage."
   ]
  },
  {
   "cell_type": "code",
   "execution_count": 2,
   "metadata": {},
   "outputs": [],
   "source": [
    "from nltk.stem import PorterStemmer"
   ]
  },
  {
   "cell_type": "code",
   "execution_count": 3,
   "metadata": {},
   "outputs": [],
   "source": [
    "stemming = PorterStemmer()"
   ]
  },
  {
   "cell_type": "code",
   "execution_count": 9,
   "metadata": {},
   "outputs": [
    {
     "name": "stdout",
     "output_type": "stream",
     "text": [
      "Running ---> run\n",
      "Jumps ---> jump\n",
      "Easily ---> easili\n",
      "Friendliness ---> friendli\n",
      "Happily ---> happili\n",
      "Eating ---> eat\n",
      "Studies ---> studi\n",
      "Caring ---> care\n",
      "Organizations ---> organ\n",
      "Cried ---> cri\n",
      "Flying ---> fli\n",
      "Houses ---> hous\n",
      "Wondered ---> wonder\n",
      "Playing ---> play\n",
      "Quicker ---> quicker\n",
      "Wolves ---> wolv\n",
      "Bigger ---> bigger\n",
      "Amazement ---> amaz\n",
      "Completely ---> complet\n",
      "Simplified ---> simplifi\n",
      "Eaten ---> eaten\n",
      "History ---> histori\n"
     ]
    }
   ],
   "source": [
    "for word in words:\n",
    "    print(word + ' ---> ' + stemming.stem(word))"
   ]
  },
  {
   "cell_type": "code",
   "execution_count": null,
   "metadata": {},
   "outputs": [],
   "source": []
  }
 ],
 "metadata": {
  "kernelspec": {
   "display_name": ".nlpenv",
   "language": "python",
   "name": "python3"
  },
  "language_info": {
   "codemirror_mode": {
    "name": "ipython",
    "version": 3
   },
   "file_extension": ".py",
   "mimetype": "text/x-python",
   "name": "python",
   "nbconvert_exporter": "python",
   "pygments_lexer": "ipython3",
   "version": "3.11.4"
  }
 },
 "nbformat": 4,
 "nbformat_minor": 2
}
