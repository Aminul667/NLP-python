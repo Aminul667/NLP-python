{
 "cells": [
  {
   "cell_type": "code",
   "execution_count": 11,
   "metadata": {},
   "outputs": [],
   "source": [
    "import nltk"
   ]
  },
  {
   "cell_type": "code",
   "execution_count": 26,
   "metadata": {},
   "outputs": [],
   "source": [
    "from nltk.stem import PorterStemmer\n",
    "from nltk.stem import SnowballStemmer\n",
    "from nltk.corpus import stopwords\n",
    "from nltk.stem import WordNetLemmatizer"
   ]
  },
  {
   "cell_type": "code",
   "execution_count": 12,
   "metadata": {},
   "outputs": [
    {
     "name": "stderr",
     "output_type": "stream",
     "text": [
      "[nltk_data] Downloading package stopwords to\n",
      "[nltk_data]     C:\\Users\\User\\AppData\\Roaming\\nltk_data...\n",
      "[nltk_data]   Package stopwords is already up-to-date!\n",
      "[nltk_data] Downloading package punkt_tab to\n",
      "[nltk_data]     C:\\Users\\User\\AppData\\Roaming\\nltk_data...\n",
      "[nltk_data]   Unzipping tokenizers\\punkt_tab.zip.\n"
     ]
    },
    {
     "data": {
      "text/plain": [
       "True"
      ]
     },
     "execution_count": 12,
     "metadata": {},
     "output_type": "execute_result"
    }
   ],
   "source": [
    "nltk.download('stopwords')\n",
    "nltk.download('punkt_tab')"
   ]
  },
  {
   "cell_type": "code",
   "execution_count": 4,
   "metadata": {},
   "outputs": [],
   "source": [
    "paragraph = '''\n",
    "A growth mindset is crucial for personal and professional development. It’s the belief that talents, intelligence, and abilities can be developed over time through dedication and hard work. People with a growth mindset are more resilient when faced with challenges, viewing setbacks as opportunities to learn rather than as indicators of failure. This perspective fosters a love of learning, creativity, and innovation, all of which are vital for success in today’s rapidly changing world. By embracing this mindset, individuals become more open to new experiences and are more likely to persevere in the face of difficulties. They understand that effort, practice, and perseverance can lead to improvement, even in areas where they may have initially struggled. In contrast, a fixed mindset leads to stagnation, as people may avoid challenges or give up easily, believing their abilities are static and unchangeable. Research has shown that people with a growth mindset tend to achieve more, as they focus on learning and improving rather than simply proving themselves. This mindset also improves relationships and teamwork because it encourages individuals to embrace feedback and collaborate effectively. It’s not just about individual success but also about fostering a supportive environment where everyone can grow. Cultivating a growth mindset involves changing how we perceive our abilities and how we approach challenges. It requires being mindful of our self-talk, celebrating progress, and viewing obstacles as stepping stones toward success. By doing so, we can unlock our potential, embrace lifelong learning, and face the future with confidence and optimism.\n",
    "'''"
   ]
  },
  {
   "cell_type": "code",
   "execution_count": 8,
   "metadata": {},
   "outputs": [
    {
     "data": {
      "text/plain": [
       "['i',\n",
       " 'me',\n",
       " 'my',\n",
       " 'myself',\n",
       " 'we',\n",
       " 'our',\n",
       " 'ours',\n",
       " 'ourselves',\n",
       " 'you',\n",
       " \"you're\",\n",
       " \"you've\",\n",
       " \"you'll\",\n",
       " \"you'd\",\n",
       " 'your',\n",
       " 'yours',\n",
       " 'yourself',\n",
       " 'yourselves',\n",
       " 'he',\n",
       " 'him',\n",
       " 'his',\n",
       " 'himself',\n",
       " 'she',\n",
       " \"she's\",\n",
       " 'her',\n",
       " 'hers',\n",
       " 'herself',\n",
       " 'it',\n",
       " \"it's\",\n",
       " 'its',\n",
       " 'itself',\n",
       " 'they',\n",
       " 'them',\n",
       " 'their',\n",
       " 'theirs',\n",
       " 'themselves',\n",
       " 'what',\n",
       " 'which',\n",
       " 'who',\n",
       " 'whom',\n",
       " 'this',\n",
       " 'that',\n",
       " \"that'll\",\n",
       " 'these',\n",
       " 'those',\n",
       " 'am',\n",
       " 'is',\n",
       " 'are',\n",
       " 'was',\n",
       " 'were',\n",
       " 'be',\n",
       " 'been',\n",
       " 'being',\n",
       " 'have',\n",
       " 'has',\n",
       " 'had',\n",
       " 'having',\n",
       " 'do',\n",
       " 'does',\n",
       " 'did',\n",
       " 'doing',\n",
       " 'a',\n",
       " 'an',\n",
       " 'the',\n",
       " 'and',\n",
       " 'but',\n",
       " 'if',\n",
       " 'or',\n",
       " 'because',\n",
       " 'as',\n",
       " 'until',\n",
       " 'while',\n",
       " 'of',\n",
       " 'at',\n",
       " 'by',\n",
       " 'for',\n",
       " 'with',\n",
       " 'about',\n",
       " 'against',\n",
       " 'between',\n",
       " 'into',\n",
       " 'through',\n",
       " 'during',\n",
       " 'before',\n",
       " 'after',\n",
       " 'above',\n",
       " 'below',\n",
       " 'to',\n",
       " 'from',\n",
       " 'up',\n",
       " 'down',\n",
       " 'in',\n",
       " 'out',\n",
       " 'on',\n",
       " 'off',\n",
       " 'over',\n",
       " 'under',\n",
       " 'again',\n",
       " 'further',\n",
       " 'then',\n",
       " 'once',\n",
       " 'here',\n",
       " 'there',\n",
       " 'when',\n",
       " 'where',\n",
       " 'why',\n",
       " 'how',\n",
       " 'all',\n",
       " 'any',\n",
       " 'both',\n",
       " 'each',\n",
       " 'few',\n",
       " 'more',\n",
       " 'most',\n",
       " 'other',\n",
       " 'some',\n",
       " 'such',\n",
       " 'no',\n",
       " 'nor',\n",
       " 'not',\n",
       " 'only',\n",
       " 'own',\n",
       " 'same',\n",
       " 'so',\n",
       " 'than',\n",
       " 'too',\n",
       " 'very',\n",
       " 's',\n",
       " 't',\n",
       " 'can',\n",
       " 'will',\n",
       " 'just',\n",
       " 'don',\n",
       " \"don't\",\n",
       " 'should',\n",
       " \"should've\",\n",
       " 'now',\n",
       " 'd',\n",
       " 'll',\n",
       " 'm',\n",
       " 'o',\n",
       " 're',\n",
       " 've',\n",
       " 'y',\n",
       " 'ain',\n",
       " 'aren',\n",
       " \"aren't\",\n",
       " 'couldn',\n",
       " \"couldn't\",\n",
       " 'didn',\n",
       " \"didn't\",\n",
       " 'doesn',\n",
       " \"doesn't\",\n",
       " 'hadn',\n",
       " \"hadn't\",\n",
       " 'hasn',\n",
       " \"hasn't\",\n",
       " 'haven',\n",
       " \"haven't\",\n",
       " 'isn',\n",
       " \"isn't\",\n",
       " 'ma',\n",
       " 'mightn',\n",
       " \"mightn't\",\n",
       " 'mustn',\n",
       " \"mustn't\",\n",
       " 'needn',\n",
       " \"needn't\",\n",
       " 'shan',\n",
       " \"shan't\",\n",
       " 'shouldn',\n",
       " \"shouldn't\",\n",
       " 'wasn',\n",
       " \"wasn't\",\n",
       " 'weren',\n",
       " \"weren't\",\n",
       " 'won',\n",
       " \"won't\",\n",
       " 'wouldn',\n",
       " \"wouldn't\"]"
      ]
     },
     "execution_count": 8,
     "metadata": {},
     "output_type": "execute_result"
    }
   ],
   "source": [
    "stopwords.words('english')"
   ]
  },
  {
   "cell_type": "code",
   "execution_count": 9,
   "metadata": {},
   "outputs": [],
   "source": [
    "stemmer = PorterStemmer()"
   ]
  },
  {
   "cell_type": "code",
   "execution_count": 20,
   "metadata": {},
   "outputs": [],
   "source": [
    "sentencesForStemmer = nltk.sent_tokenize(paragraph)"
   ]
  },
  {
   "cell_type": "code",
   "execution_count": 21,
   "metadata": {},
   "outputs": [],
   "source": [
    "## Apply Stopwords and filter and then apply stemming\n",
    "\n",
    "for i in range(len(sentencesForStemmer)):\n",
    "    words = nltk.word_tokenize(sentencesForStemmer[i])\n",
    "    words = [stemmer.stem(word) for word in words if word not in set(stopwords.words('english'))]\n",
    "    sentencesForStemmer[i] = ' '.join(words) # converting all the words into sentence"
   ]
  },
  {
   "cell_type": "code",
   "execution_count": 17,
   "metadata": {},
   "outputs": [
    {
     "data": {
      "text/plain": [
       "['a growth mindset crucial person profession develop .',\n",
       " 'it ’ belief talent , intellig , abil develop time dedic hard work .',\n",
       " 'peopl growth mindset resili face challeng , view setback opportun learn rather indic failur .',\n",
       " 'thi perspect foster love learn , creativ , innov , vital success today ’ rapidli chang world .',\n",
       " 'by embrac mindset , individu becom open new experi like persever face difficulti .',\n",
       " 'they understand effort , practic , persever lead improv , even area may initi struggl .',\n",
       " 'in contrast , fix mindset lead stagnat , peopl may avoid challeng give easili , believ abil static unchang .',\n",
       " 'research shown peopl growth mindset tend achiev , focu learn improv rather simpli prove .',\n",
       " 'thi mindset also improv relationship teamwork encourag individu embrac feedback collabor effect .',\n",
       " 'it ’ individu success also foster support environ everyon grow .',\n",
       " 'cultiv growth mindset involv chang perceiv abil approach challeng .',\n",
       " 'it requir mind self-talk , celebr progress , view obstacl step stone toward success .',\n",
       " 'by , unlock potenti , embrac lifelong learn , face futur confid optim .']"
      ]
     },
     "execution_count": 17,
     "metadata": {},
     "output_type": "execute_result"
    }
   ],
   "source": [
    "sentences"
   ]
  },
  {
   "cell_type": "code",
   "execution_count": 22,
   "metadata": {},
   "outputs": [],
   "source": [
    "sentencesForSnowBall = nltk.sent_tokenize(paragraph)"
   ]
  },
  {
   "cell_type": "code",
   "execution_count": 23,
   "metadata": {},
   "outputs": [],
   "source": [
    "snowball_stemmer = SnowballStemmer('english')"
   ]
  },
  {
   "cell_type": "code",
   "execution_count": 31,
   "metadata": {},
   "outputs": [],
   "source": [
    "## Apply snowball Stemmer and filter and then apply stemming\n",
    "\n",
    "for i in range(len(sentencesForSnowBall)):\n",
    "    words = nltk.word_tokenize(sentencesForSnowBall[i])\n",
    "    words = [snowball_stemmer.stem(word) for word in words if word not in set(stopwords.words('english'))]\n",
    "    sentencesForSnowBall[i] = ' '.join(words) # converting all the words into sentence"
   ]
  },
  {
   "cell_type": "code",
   "execution_count": 32,
   "metadata": {},
   "outputs": [
    {
     "data": {
      "text/plain": [
       "['growth mindset crucial person profess develop .',\n",
       " '’ belief talent , intellig , abil develop time dedic hard work .',\n",
       " 'peopl growth mindset resili face challeng , view setback opportun learn rather indic failur .',\n",
       " 'perspect foster love learn , creativ , innov , vital success today ’ rapid chang world .',\n",
       " 'embrac mindset , individu becom open new experi like persev face difficulti .',\n",
       " 'understand effort , practic , persev lead improv , even area may initi struggl .',\n",
       " 'contrast , fix mindset lead stagnat , peopl may avoid challeng give easili , believ abil static unchang .',\n",
       " 'research shown peopl growth mindset tend achiev , focus learn improv rather simpli prove .',\n",
       " 'mindset also improv relationship teamwork encourag individu embrac feedback collabor effect .',\n",
       " '’ individu success also foster support environ everyon grow .',\n",
       " 'cultiv growth mindset involv chang perceiv abil approach challeng .',\n",
       " 'requir mind self-talk , celebr progress , view obstacl step stone toward success .',\n",
       " ', unlock potenti , embrac lifelong learn , face futur confid optim .']"
      ]
     },
     "execution_count": 32,
     "metadata": {},
     "output_type": "execute_result"
    }
   ],
   "source": [
    "sentencesForSnowBall"
   ]
  },
  {
   "cell_type": "code",
   "execution_count": 27,
   "metadata": {},
   "outputs": [],
   "source": [
    "lemmatizer = WordNetLemmatizer()"
   ]
  },
  {
   "cell_type": "code",
   "execution_count": 28,
   "metadata": {},
   "outputs": [],
   "source": [
    "sentencesForLemmatizer = nltk.sent_tokenize(paragraph)"
   ]
  },
  {
   "cell_type": "code",
   "execution_count": 29,
   "metadata": {},
   "outputs": [],
   "source": [
    "## Apply snowball Stemmer and filter and then apply lemmatizer\n",
    "\n",
    "for i in range(len(sentencesForLemmatizer)):\n",
    "    words = nltk.word_tokenize(sentencesForLemmatizer[i])\n",
    "    words = [lemmatizer.lemmatize(word, pos='v') for word in words if word not in set(stopwords.words('english'))]\n",
    "    sentencesForLemmatizer[i] = ' '.join(words) # converting all the words into sentence"
   ]
  },
  {
   "cell_type": "code",
   "execution_count": 30,
   "metadata": {},
   "outputs": [
    {
     "data": {
      "text/plain": [
       "['a growth mindset crucial person profession develop .',\n",
       " 'it ’ belief talent , intellig , abil develop time dedic hard work .',\n",
       " 'peopl growth mindset resili face challeng , view setback opportun learn rather indic failur .',\n",
       " 'this perspect foster love learn , creativ , innov , vital success today ’ rapid chang world .',\n",
       " 'by embrac mindset , individu becom open new experi like persever face difficulti .',\n",
       " 'they understand effort , practic , persever lead improv , even area may initi struggl .',\n",
       " 'in contrast , fix mindset lead stagnat , peopl may avoid challeng give easili , believ abil static unchang .',\n",
       " 'research shown peopl growth mindset tend achiev , focus learn improv rather simpli prove .',\n",
       " 'this mindset also improv relationship teamwork encourag individu embrac feedback collabor effect .',\n",
       " 'it ’ individu success also foster support environ everyon grow .',\n",
       " 'cultiv growth mindset involv chang perceiv abil approach challeng .',\n",
       " 'it requir mind self-talk , celebr progress , view obstacl step stone toward success .',\n",
       " 'by , unlock potenti , embrac lifelong learn , face futur confid optim .']"
      ]
     },
     "execution_count": 30,
     "metadata": {},
     "output_type": "execute_result"
    }
   ],
   "source": [
    "sentencesForLemmatizer"
   ]
  },
  {
   "cell_type": "code",
   "execution_count": null,
   "metadata": {},
   "outputs": [],
   "source": []
  }
 ],
 "metadata": {
  "kernelspec": {
   "display_name": "Python 3",
   "language": "python",
   "name": "python3"
  },
  "language_info": {
   "codemirror_mode": {
    "name": "ipython",
    "version": 3
   },
   "file_extension": ".py",
   "mimetype": "text/x-python",
   "name": "python",
   "nbconvert_exporter": "python",
   "pygments_lexer": "ipython3",
   "version": "3.12.6"
  }
 },
 "nbformat": 4,
 "nbformat_minor": 2
}
