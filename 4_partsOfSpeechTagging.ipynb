{
 "cells": [
  {
   "cell_type": "code",
   "execution_count": 1,
   "metadata": {},
   "outputs": [
    {
     "name": "stderr",
     "output_type": "stream",
     "text": [
      "[nltk_data] Downloading package averaged_perceptron_tagger_eng to\n",
      "[nltk_data]     C:\\Users\\User\\AppData\\Roaming\\nltk_data...\n",
      "[nltk_data]   Package averaged_perceptron_tagger_eng is already up-to-\n",
      "[nltk_data]       date!\n"
     ]
    },
    {
     "data": {
      "text/plain": [
       "True"
      ]
     },
     "execution_count": 1,
     "metadata": {},
     "output_type": "execute_result"
    }
   ],
   "source": [
    "import nltk\n",
    "from nltk.corpus import stopwords\n",
    "nltk.download('averaged_perceptron_tagger_eng')"
   ]
  },
  {
   "cell_type": "code",
   "execution_count": 1,
   "metadata": {},
   "outputs": [],
   "source": [
    "paragraph = '''\n",
    "A growth mindset is crucial for personal and professional development. It’s the belief that talents, intelligence, and abilities can be developed over time through dedication and hard work. People with a growth mindset are more resilient when faced with challenges, viewing setbacks as opportunities to learn rather than as indicators of failure. This perspective fosters a love of learning, creativity, and innovation, all of which are vital for success in today’s rapidly changing world. By embracing this mindset, individuals become more open to new experiences and are more likely to persevere in the face of difficulties. They understand that effort, practice, and perseverance can lead to improvement, even in areas where they may have initially struggled. In contrast, a fixed mindset leads to stagnation, as people may avoid challenges or give up easily, believing their abilities are static and unchangeable. Research has shown that people with a growth mindset tend to achieve more, as they focus on learning and improving rather than simply proving themselves. This mindset also improves relationships and teamwork because it encourages individuals to embrace feedback and collaborate effectively. It’s not just about individual success but also about fostering a supportive environment where everyone can grow. Cultivating a growth mindset involves changing how we perceive our abilities and how we approach challenges. It requires being mindful of our self-talk, celebrating progress, and viewing obstacles as stepping stones toward success. By doing so, we can unlock our potential, embrace lifelong learning, and face the future with confidence and optimism.\n",
    "'''"
   ]
  },
  {
   "cell_type": "code",
   "execution_count": 3,
   "metadata": {},
   "outputs": [
    {
     "data": {
      "text/plain": [
       "['\\nA growth mindset is crucial for personal and professional development.',\n",
       " 'It’s the belief that talents, intelligence, and abilities can be developed over time through dedication and hard work.',\n",
       " 'People with a growth mindset are more resilient when faced with challenges, viewing setbacks as opportunities to learn rather than as indicators of failure.',\n",
       " 'This perspective fosters a love of learning, creativity, and innovation, all of which are vital for success in today’s rapidly changing world.',\n",
       " 'By embracing this mindset, individuals become more open to new experiences and are more likely to persevere in the face of difficulties.',\n",
       " 'They understand that effort, practice, and perseverance can lead to improvement, even in areas where they may have initially struggled.',\n",
       " 'In contrast, a fixed mindset leads to stagnation, as people may avoid challenges or give up easily, believing their abilities are static and unchangeable.',\n",
       " 'Research has shown that people with a growth mindset tend to achieve more, as they focus on learning and improving rather than simply proving themselves.',\n",
       " 'This mindset also improves relationships and teamwork because it encourages individuals to embrace feedback and collaborate effectively.',\n",
       " 'It’s not just about individual success but also about fostering a supportive environment where everyone can grow.',\n",
       " 'Cultivating a growth mindset involves changing how we perceive our abilities and how we approach challenges.',\n",
       " 'It requires being mindful of our self-talk, celebrating progress, and viewing obstacles as stepping stones toward success.',\n",
       " 'By doing so, we can unlock our potential, embrace lifelong learning, and face the future with confidence and optimism.']"
      ]
     },
     "execution_count": 3,
     "metadata": {},
     "output_type": "execute_result"
    }
   ],
   "source": [
    "sentences = nltk.sent_tokenize(paragraph)\n",
    "sentences"
   ]
  },
  {
   "cell_type": "code",
   "execution_count": 12,
   "metadata": {},
   "outputs": [
    {
     "name": "stdout",
     "output_type": "stream",
     "text": [
      "[('A', 'DT'), ('growth', 'NN'), ('mindset', 'NN'), ('crucial', 'JJ'), ('personal', 'JJ'), ('professional', 'NN'), ('development', 'NN'), ('.', '.')]\n",
      "[('It', 'PRP'), ('’', 'VBZ'), ('belief', 'JJ'), ('talents', 'NNS'), (',', ','), ('intelligence', 'NN'), (',', ','), ('abilities', 'NNS'), ('developed', 'VBD'), ('time', 'NN'), ('dedication', 'NN'), ('hard', 'JJ'), ('work', 'NN'), ('.', '.')]\n",
      "[('People', 'NNS'), ('growth', 'NN'), ('mindset', 'VBP'), ('resilient', 'NN'), ('faced', 'VBN'), ('challenges', 'NNS'), (',', ','), ('viewing', 'VBG'), ('setbacks', 'NNS'), ('opportunities', 'NNS'), ('learn', 'VBP'), ('rather', 'RB'), ('indicators', 'NNS'), ('failure', 'NN'), ('.', '.')]\n",
      "[('This', 'DT'), ('perspective', 'NN'), ('fosters', 'NNS'), ('love', 'VBP'), ('learning', 'NN'), (',', ','), ('creativity', 'NN'), (',', ','), ('innovation', 'NN'), (',', ','), ('vital', 'JJ'), ('success', 'NN'), ('today', 'NN'), ('’', 'NNP'), ('rapidly', 'RB'), ('changing', 'VBG'), ('world', 'NN'), ('.', '.')]\n",
      "[('By', 'IN'), ('embracing', 'VBG'), ('mindset', 'NN'), (',', ','), ('individuals', 'NNS'), ('become', 'VBP'), ('open', 'JJ'), ('new', 'JJ'), ('experiences', 'NNS'), ('likely', 'RB'), ('persevere', 'JJ'), ('face', 'NN'), ('difficulties', 'NNS'), ('.', '.')]\n",
      "[('They', 'PRP'), ('understand', 'VBP'), ('effort', 'NN'), (',', ','), ('practice', 'NN'), (',', ','), ('perseverance', 'NN'), ('lead', 'NN'), ('improvement', 'NN'), (',', ','), ('even', 'RB'), ('areas', 'NNS'), ('may', 'MD'), ('initially', 'RB'), ('struggled', 'VB'), ('.', '.')]\n",
      "[('In', 'IN'), ('contrast', 'NN'), (',', ','), ('fixed', 'VBN'), ('mindset', 'NN'), ('leads', 'VBZ'), ('stagnation', 'NN'), (',', ','), ('people', 'NNS'), ('may', 'MD'), ('avoid', 'VB'), ('challenges', 'NNS'), ('give', 'VBP'), ('easily', 'RB'), (',', ','), ('believing', 'VBG'), ('abilities', 'NNS'), ('static', 'JJ'), ('unchangeable', 'JJ'), ('.', '.')]\n",
      "[('Research', 'NNP'), ('shown', 'VBN'), ('people', 'NNS'), ('growth', 'NN'), ('mindset', 'VBP'), ('tend', 'VB'), ('achieve', 'NN'), (',', ','), ('focus', 'VB'), ('learning', 'VBG'), ('improving', 'VBG'), ('rather', 'RB'), ('simply', 'RB'), ('proving', 'VBG'), ('.', '.')]\n",
      "[('This', 'DT'), ('mindset', 'NN'), ('also', 'RB'), ('improves', 'VBZ'), ('relationships', 'NNS'), ('teamwork', 'NN'), ('encourages', 'VBZ'), ('individuals', 'NNS'), ('embrace', 'VBP'), ('feedback', 'NN'), ('collaborate', 'NN'), ('effectively', 'RB'), ('.', '.')]\n",
      "[('It', 'PRP'), ('’', 'VBD'), ('individual', 'JJ'), ('success', 'NN'), ('also', 'RB'), ('fostering', 'VBG'), ('supportive', 'JJ'), ('environment', 'NN'), ('everyone', 'NN'), ('grow', 'NN'), ('.', '.')]\n",
      "[('Cultivating', 'VBG'), ('growth', 'NN'), ('mindset', 'NN'), ('involves', 'VBZ'), ('changing', 'VBG'), ('perceive', 'JJ'), ('abilities', 'NNS'), ('approach', 'NN'), ('challenges', 'NNS'), ('.', '.')]\n",
      "[('It', 'PRP'), ('requires', 'VBZ'), ('mindful', 'JJ'), ('self-talk', 'NN'), (',', ','), ('celebrating', 'VBG'), ('progress', 'NN'), (',', ','), ('viewing', 'VBG'), ('obstacles', 'NNS'), ('stepping', 'VBG'), ('stones', 'NNS'), ('toward', 'IN'), ('success', 'NN'), ('.', '.')]\n",
      "[('By', 'IN'), (',', ','), ('unlock', 'JJ'), ('potential', 'NN'), (',', ','), ('embrace', 'NN'), ('lifelong', 'JJ'), ('learning', 'NN'), (',', ','), ('face', 'NN'), ('future', 'JJ'), ('confidence', 'NN'), ('optimism', 'NN'), ('.', '.')]\n"
     ]
    }
   ],
   "source": [
    "# find out the pos tag\n",
    "# Apply snowball Stemmer and filter and then apply lemmatizer\n",
    "\n",
    "for i in range(len(sentences)):\n",
    "    words = nltk.word_tokenize(sentences[i])\n",
    "    words = [word for word in words if word not in set(stopwords.words('english'))]\n",
    "\n",
    "    pos_tag = nltk.pos_tag(words)\n",
    "    print(pos_tag)"
   ]
  },
  {
   "cell_type": "code",
   "execution_count": 2,
   "metadata": {},
   "outputs": [
    {
     "data": {
      "text/plain": [
       "[('This', 'DT'),\n",
       " ('is', 'VBZ'),\n",
       " ('a', 'DT'),\n",
       " ('beautiful', 'JJ'),\n",
       " ('sentence', 'NN')]"
      ]
     },
     "execution_count": 2,
     "metadata": {},
     "output_type": "execute_result"
    }
   ],
   "source": [
    "nltk.pos_tag(\"This is a beautiful sentence\".split())"
   ]
  },
  {
   "cell_type": "code",
   "execution_count": null,
   "metadata": {},
   "outputs": [],
   "source": []
  }
 ],
 "metadata": {
  "kernelspec": {
   "display_name": ".nlpenv",
   "language": "python",
   "name": "python3"
  },
  "language_info": {
   "codemirror_mode": {
    "name": "ipython",
    "version": 3
   },
   "file_extension": ".py",
   "mimetype": "text/x-python",
   "name": "python",
   "nbconvert_exporter": "python",
   "pygments_lexer": "ipython3",
   "version": "3.12.6"
  }
 },
 "nbformat": 4,
 "nbformat_minor": 2
}
