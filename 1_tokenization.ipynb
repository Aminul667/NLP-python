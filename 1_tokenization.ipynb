{
 "cells": [
  {
   "cell_type": "code",
   "execution_count": 9,
   "metadata": {},
   "outputs": [
    {
     "name": "stderr",
     "output_type": "stream",
     "text": [
      "[nltk_data] Downloading package punkt_tab to\n",
      "[nltk_data]     C:\\Users\\aminulislam\\AppData\\Roaming\\nltk_data...\n",
      "[nltk_data]   Package punkt_tab is already up-to-date!\n"
     ]
    },
    {
     "data": {
      "text/plain": [
       "True"
      ]
     },
     "execution_count": 9,
     "metadata": {},
     "output_type": "execute_result"
    }
   ],
   "source": [
    "import nltk\n",
    "nltk.download('punkt_tab')"
   ]
  },
  {
   "cell_type": "code",
   "execution_count": 3,
   "metadata": {},
   "outputs": [],
   "source": [
    "corpus = \"\"\"NLP has existed for more than 50 years! and has roots in the field of linguistics.\n",
    "It has a variety of real-world applications in numerous fields, including medical research, search engines and business intelligence.\n",
    "\"\"\""
   ]
  },
  {
   "cell_type": "code",
   "execution_count": 4,
   "metadata": {},
   "outputs": [
    {
     "name": "stdout",
     "output_type": "stream",
     "text": [
      "NLP has existed for more than 50 years! and has roots in the field of linguistics.\n",
      "It has a variety of real-world applications in numerous fields, including medical research, search engines and business intelligence.\n",
      "\n"
     ]
    }
   ],
   "source": [
    "print(corpus)"
   ]
  },
  {
   "cell_type": "code",
   "execution_count": 10,
   "metadata": {},
   "outputs": [],
   "source": [
    "## Tokenization\n",
    "### Paragraph -> sentence\n",
    "from nltk.tokenize import sent_tokenize"
   ]
  },
  {
   "cell_type": "code",
   "execution_count": 6,
   "metadata": {},
   "outputs": [],
   "source": [
    "documents = sent_tokenize(corpus)"
   ]
  },
  {
   "cell_type": "code",
   "execution_count": 7,
   "metadata": {},
   "outputs": [
    {
     "name": "stdout",
     "output_type": "stream",
     "text": [
      "NLP has existed for more than 50 years!\n",
      "and has roots in the field of linguistics.\n",
      "It has a variety of real-world applications in numerous fields, including medical research, search engines and business intelligence.\n"
     ]
    }
   ],
   "source": [
    "for document in documents:\n",
    "    print(document)"
   ]
  },
  {
   "cell_type": "code",
   "execution_count": 11,
   "metadata": {},
   "outputs": [],
   "source": [
    "## tokenization\n",
    "## Paragraph -> words\n",
    "## Sentence -> words\n",
    "\n",
    "from nltk.tokenize import word_tokenize"
   ]
  },
  {
   "cell_type": "code",
   "execution_count": 12,
   "metadata": {},
   "outputs": [
    {
     "data": {
      "text/plain": [
       "['NLP',\n",
       " 'has',\n",
       " 'existed',\n",
       " 'for',\n",
       " 'more',\n",
       " 'than',\n",
       " '50',\n",
       " 'years',\n",
       " '!',\n",
       " 'and',\n",
       " 'has',\n",
       " 'roots',\n",
       " 'in',\n",
       " 'the',\n",
       " 'field',\n",
       " 'of',\n",
       " 'linguistics',\n",
       " '.',\n",
       " 'It',\n",
       " 'has',\n",
       " 'a',\n",
       " 'variety',\n",
       " 'of',\n",
       " 'real-world',\n",
       " 'applications',\n",
       " 'in',\n",
       " 'numerous',\n",
       " 'fields',\n",
       " ',',\n",
       " 'including',\n",
       " 'medical',\n",
       " 'research',\n",
       " ',',\n",
       " 'search',\n",
       " 'engines',\n",
       " 'and',\n",
       " 'business',\n",
       " 'intelligence',\n",
       " '.']"
      ]
     },
     "execution_count": 12,
     "metadata": {},
     "output_type": "execute_result"
    }
   ],
   "source": [
    "word_tokenize(corpus)"
   ]
  },
  {
   "cell_type": "code",
   "execution_count": 13,
   "metadata": {},
   "outputs": [],
   "source": [
    "from nltk.tokenize import wordpunct_tokenize"
   ]
  },
  {
   "cell_type": "code",
   "execution_count": 14,
   "metadata": {},
   "outputs": [
    {
     "data": {
      "text/plain": [
       "['NLP',\n",
       " 'has',\n",
       " 'existed',\n",
       " 'for',\n",
       " 'more',\n",
       " 'than',\n",
       " '50',\n",
       " 'years',\n",
       " '!',\n",
       " 'and',\n",
       " 'has',\n",
       " 'roots',\n",
       " 'in',\n",
       " 'the',\n",
       " 'field',\n",
       " 'of',\n",
       " 'linguistics',\n",
       " '.',\n",
       " 'It',\n",
       " 'has',\n",
       " 'a',\n",
       " 'variety',\n",
       " 'of',\n",
       " 'real',\n",
       " '-',\n",
       " 'world',\n",
       " 'applications',\n",
       " 'in',\n",
       " 'numerous',\n",
       " 'fields',\n",
       " ',',\n",
       " 'including',\n",
       " 'medical',\n",
       " 'research',\n",
       " ',',\n",
       " 'search',\n",
       " 'engines',\n",
       " 'and',\n",
       " 'business',\n",
       " 'intelligence',\n",
       " '.']"
      ]
     },
     "execution_count": 14,
     "metadata": {},
     "output_type": "execute_result"
    }
   ],
   "source": [
    "wordpunct_tokenize(corpus)"
   ]
  },
  {
   "cell_type": "code",
   "execution_count": 18,
   "metadata": {},
   "outputs": [],
   "source": [
    "from nltk.tokenize import TreebankWordTokenizer"
   ]
  },
  {
   "cell_type": "code",
   "execution_count": 19,
   "metadata": {},
   "outputs": [
    {
     "data": {
      "text/plain": [
       "['NLP',\n",
       " 'has',\n",
       " 'existed',\n",
       " 'for',\n",
       " 'more',\n",
       " 'than',\n",
       " '50',\n",
       " 'years',\n",
       " '!',\n",
       " 'and',\n",
       " 'has',\n",
       " 'roots',\n",
       " 'in',\n",
       " 'the',\n",
       " 'field',\n",
       " 'of',\n",
       " 'linguistics.',\n",
       " 'It',\n",
       " 'has',\n",
       " 'a',\n",
       " 'variety',\n",
       " 'of',\n",
       " 'real-world',\n",
       " 'applications',\n",
       " 'in',\n",
       " 'numerous',\n",
       " 'fields',\n",
       " ',',\n",
       " 'including',\n",
       " 'medical',\n",
       " 'research',\n",
       " ',',\n",
       " 'search',\n",
       " 'engines',\n",
       " 'and',\n",
       " 'business',\n",
       " 'intelligence',\n",
       " '.']"
      ]
     },
     "execution_count": 19,
     "metadata": {},
     "output_type": "execute_result"
    }
   ],
   "source": [
    "tokenizer = TreebankWordTokenizer()\n",
    "tokenizer.tokenize(corpus)"
   ]
  },
  {
   "cell_type": "code",
   "execution_count": null,
   "metadata": {},
   "outputs": [],
   "source": []
  }
 ],
 "metadata": {
  "kernelspec": {
   "display_name": ".nlpenv",
   "language": "python",
   "name": "python3"
  },
  "language_info": {
   "codemirror_mode": {
    "name": "ipython",
    "version": 3
   },
   "file_extension": ".py",
   "mimetype": "text/x-python",
   "name": "python",
   "nbconvert_exporter": "python",
   "pygments_lexer": "ipython3",
   "version": "3.11.4"
  }
 },
 "nbformat": 4,
 "nbformat_minor": 2
}
